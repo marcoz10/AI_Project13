{
 "cells": [
  {
   "cell_type": "markdown",
   "metadata": {
    "colab_type": "text",
    "id": "VXEDGTSVnAZD"
   },
   "source": [
    "This notebook (solve_itc_baseline_csp.py) formulates the data from ITC-2007 Course Timetabling Problem as a CSP in terms of the AIMA Code csp.Problem then runs Backtracking Search (and other algorithms) to find a solution"
   ]
  },
  {
   "cell_type": "code",
   "execution_count": null,
   "metadata": {
    "colab": {},
    "colab_type": "code",
    "id": "PgEVRSk0mged"
   },
   "outputs": [],
   "source": [
    "# Need to work on the rest of the constraints ...\n",
    "\n",
    "# Hard Constraints:\n",
    "# x all courses must be scheduled\n",
    "# x courses assigned to different room-day-time combinations\n",
    "# - teacher conflicts: a teach can not teach more than one course in the same day-time slot\n",
    "# x course availability\n",
    "# x courses assigned to rooms with adequate capacity (this is a unary constraint on course assignment to rooms)\n",
    "\n",
    "# Soft Constraints:\n",
    "# - minimum working days\n",
    "# - curriculum compactness\n",
    "# - room stability\n",
    "\n",
    "# import standard packages\n",
    "import sys\n",
    "\n",
    "# **** set the path to the AIMA code for your system ****\n",
    "sys.path.append(\"/users/brucks/source/aima\")\n",
    "\n",
    "# import needed aima code\n",
    "import csp\n",
    "\n",
    "# import our code and the aima code\n",
    "from read_itc_data_file import read_itc_data_file\n",
    "from timetabling_csp import TimetablingCSP\n",
    "from timeslot_csp import TimeSlot\n",
    "\n",
    "\n",
    "USE_ONE_DAY_CLASSES = False\n",
    "\n",
    "# -------------------------------------------------------------------------------------\n",
    "# constraints A function f(A, a, B, b) that returns true if two variables\n",
    "#                     A, B satisfy the constraint when they have values A=a, B=b\n",
    "# but it seems like we could just use the two variables A, B\n",
    "def constraint_different_values(A, a, B, b):\n",
    "  # a and b should be lists of length 2 (someday longer)\n",
    "  return (a != b)\n",
    "\n",
    "# -------------------------------------------------------------------------------------\n",
    "def display_solution(solution, problem):\n",
    "  # for a first cut, let's just print it out day by day ...\n",
    "  print('solution:', solution)\n",
    "  print('number of assignments = ', problem.nassigns)\n",
    "\n",
    "  # solution will be a dictionary where the key is the course name / ID\n",
    "  # of the form: solution: {'c0072': ('F', TH-1430-1545), 'c0016': ('B', H-0700-0950), ...\n",
    "\n",
    "  # let's try to refactor this into time slots, an array of tuples (time_slot, classroom, course)\n",
    "  time_slots = []\n",
    "  for s in solution:\n",
    "      room = solution[s][0]\n",
    "      ts = solution[s][1]\n",
    "      time_slots.append((ts, room, s))\n",
    "\n",
    "  # sort the list by element 0 (time slot)\n",
    "  time_slots.sort(key=lambda x: x[0])\n",
    "  for t in time_slots:\n",
    "      print(t)"
   ]
  },
  {
   "cell_type": "markdown",
   "metadata": {
    "colab_type": "text",
    "id": "6E9A2Xz4uG8A"
   },
   "source": [
    "Now we read in the ITC data file and do the pre-process necessary to convert the raw data into variables, domains and constraints"
   ]
  },
  {
   "cell_type": "code",
   "execution_count": null,
   "metadata": {
    "colab": {
     "base_uri": "https://localhost:8080/",
     "height": 139
    },
    "colab_type": "code",
    "executionInfo": {
     "elapsed": 837,
     "status": "ok",
     "timestamp": 1586474317612,
     "user": {
      "displayName": "Tim Brucks",
      "photoUrl": "https://lh3.googleusercontent.com/a-/AOh14GiGagSs1z3KyXsWPmSj8Cx3ihMccEeIaW0413_g=s64",
      "userId": "12323747811524956898"
     },
     "user_tz": 300
    },
    "id": "f2_AmtonuZQi",
    "outputId": "db8c1cda-9e47-4879-9bcd-b96d13e26b5f"
   },
   "outputs": [],
   "source": [
    "file_name = '../Data/ITC-2007/comp01.ctt.txt'\n",
    "\n",
    "courses, rooms, num_days, periods_per_day, unavail_constraints = read_itc_data_file(file_name)\n",
    "\n",
    "\n",
    "# ITC data has days and time slots as separate items, but for us it makes a lot more sense to map to a combo\n",
    "\n",
    "# fake some data, worry about parsing the file later\n",
    "# courses = ['SceCosC', 'ArcTec', 'TecCos', 'Geotec']\n",
    "# rooms = ['A', 'B']\n",
    "# num_days = list(range(3))\n",
    "# periods_per_day = list(range(5))\n",
    "print('courses:', courses)\n",
    "print('rooms:', rooms)\n",
    "print('num_days:', num_days)\n",
    "print('periods_per_day:', periods_per_day)\n",
    "print('unavail_constraints:', unavail_constraints)"
   ]
  },
  {
   "cell_type": "code",
   "execution_count": null,
   "metadata": {
    "colab": {
     "base_uri": "https://localhost:8080/",
     "height": 136
    },
    "colab_type": "code",
    "executionInfo": {
     "elapsed": 319,
     "status": "ok",
     "timestamp": 1586350589819,
     "user": {
      "displayName": "Tim Brucks",
      "photoUrl": "https://lh3.googleusercontent.com/a-/AOh14GiGagSs1z3KyXsWPmSj8Cx3ihMccEeIaW0413_g=s64",
      "userId": "12323747811524956898"
     },
     "user_tz": 300
    },
    "id": "LDZJCSCFwxnd",
    "outputId": "86695bcb-3744-46cd-c3da-0da0a742a17a"
   },
   "outputs": [],
   "source": [
    "# -------------------------------------------------------------------------------------\n",
    "# data pre-processing steps:\n",
    "#   - convert the course day (in integer) and time-slot (also an integer) into a TimeSlot instance\n",
    "#   - do the same with the unavailability constraints\n",
    "\n",
    "# convert the day and time values into a TimeSlot instance\n",
    "# options: we can have 1-day per week classes, 2-day per week classes (MW or TR), 3-days per week (MWF)\n",
    "#          for now we will just have 2-day per week and we will add in 1-day per week if the problem space\n",
    "#          gets too large\n",
    "days2 = [['M','W'], ['T','R']]\n",
    "days1 = ['M','T','W','R','F']\n",
    "times2_start = [700,830,1000,1130,1300,1430,1600,1730,1900] # these are 1:15 minute classes\n",
    "times2_stop = [815,945,1115,1245,1415,1545,1715,1845,2015]\n",
    "times1_start = [700,1000,1300,1600,1900] # these are 2:50 minute classes\n",
    "times1_stop = [950,1250,1550,1850,2150]\n",
    "\n",
    "# keep the specified number of time slots == periods_per_day times\n",
    "indices = list(range(0,periods_per_day))\n",
    "# np.random.shuffle(indices) # (choose which to keep at random?)\n",
    "times2_start = [times2_start[i] for i in indices]\n",
    "times2_stop =  [times2_stop[i] for i in indices]\n",
    "# print('times2_start:',times2_start)\n",
    "# print('times2_stop:',times2_stop)\n",
    "\n",
    "# convert into instances of class TimeSlot():\n",
    "time_slots = []\n",
    "for d in days2:\n",
    "    for start,stop in zip(times2_start, times2_stop):\n",
    "        time_slots.append(TimeSlot(d, start, stop))\n",
    "if USE_ONE_DAY_CLASSES:\n",
    "    for d in days1:\n",
    "        for start,stop in zip(times1_start, times1_stop):\n",
    "            time_slots.append(TimeSlot(d, start, stop))\n",
    "\n",
    "# for t in time_slots:\n",
    "#     print(t)\n",
    "\n",
    "# convert the unavailability constraints into TimeSlot instances\n",
    "# unavail_constraints is a dict with entries like: 'c0025': [(2, 2), (2, 3) ... ]\n",
    "blocked_timeslots = {} # use a dict; key = course, value = list of TimeSlot items\n",
    "for c in unavail_constraints:\n",
    "    blocked_timeslots[c] = []\n",
    "    for item in unavail_constraints[c]:\n",
    "        # item is a tuple of (day number, time period number)\n",
    "        this_day = days1[item[0]]\n",
    "        the_days = []\n",
    "        # need to handle this carefully since our time slots are MW, TR and maybe M->F\n",
    "        # so if the blocked day is W, then we need to block both W and MW ...\n",
    "        for d in days2:\n",
    "            if this_day in d:\n",
    "                the_days.append(d)\n",
    "\n",
    "        # get start and stop times for the specified time slot\n",
    "        time_num = item[1]\n",
    "        start = times2_start[time_num]\n",
    "        stop = times2_stop[time_num]\n",
    "        for d in the_days:\n",
    "            blocked_timeslots[c].append(TimeSlot(d, start, stop))\n",
    "\n",
    "print('blocked_timeslots:')\n",
    "for b in blocked_timeslots:\n",
    "  print(b, ':', blocked_timeslots[b])\n",
    "\n",
    "# first sanity check: make sure the number of courses is not greater than the number of available\n",
    "# day-time slots * number of rooms\n",
    "if len(courses) > len(time_slots) * len(rooms):\n",
    "    print('Error: too many courses for the combination of day-times and rooms')\n",
    "    sys.exit()"
   ]
  },
  {
   "cell_type": "code",
   "execution_count": null,
   "metadata": {
    "colab": {
     "base_uri": "https://localhost:8080/",
     "height": 544
    },
    "colab_type": "code",
    "executionInfo": {
     "elapsed": 477,
     "status": "ok",
     "timestamp": 1586350589985,
     "user": {
      "displayName": "Tim Brucks",
      "photoUrl": "https://lh3.googleusercontent.com/a-/AOh14GiGagSs1z3KyXsWPmSj8Cx3ihMccEeIaW0413_g=s64",
      "userId": "12323747811524956898"
     },
     "user_tz": 300
    },
    "id": "E7RXQAAFxTcN",
    "outputId": "791ec2c3-f306-4c61-ccb6-766bcab633fd"
   },
   "outputs": [],
   "source": [
    "# -------------------------------------------------------------------------------------\n",
    "# variables: a dict; key: variable name; value: tuple (list???) of a the values assigned to each variable attribute\n",
    "# variables: a dictionary of {var:(attribute1, ...)}\n",
    "attr_names = ['Room', 'Day-Time']\n",
    "variables = {}\n",
    "for c in courses:\n",
    "    variables[c] = (None, None) #rooms[0], num_days[0]) #, periods[0])\n",
    "\n",
    "# -------------------------------------------------------------------------------------\n",
    "# apply the unary constraints; since they only constrain one attribute of a variable we will do that to limit the\n",
    "# domains of some variable attributes before constructing the Timetabling CSP problem\n",
    "\n",
    "# apply unary constraints based on room capacities\n",
    "# each course has a max number of students (element 3 in the list), each room has a max capacity\n",
    "# first let's make a list or dict of the domains\n",
    "room_violation = {}\n",
    "for c in courses:\n",
    "    max_students = courses[c][3]\n",
    "    # now look at all the rooms and see where we have a violation\n",
    "    for r in rooms:\n",
    "        if rooms[r] < max_students:\n",
    "            if c not in room_violation:\n",
    "                room_violation[c] = [r]\n",
    "            else:\n",
    "                room_violation[c].append(r)\n",
    "# print('room_violation:', room_violation)\n",
    "\n",
    "# now create the domain set for the 'Rooms' attribute for each variable\n",
    "room_domain_all = list(rooms.keys())\n",
    "room_domains = {}\n",
    "for v in variables:\n",
    "    if v in room_violation:\n",
    "        room_domains[v] = [r for r in room_domain_all if r not in room_violation[v]]\n",
    "    else:\n",
    "        room_domains[v] = room_domain_all\n",
    "# print('room_domains:', room_domains)\n",
    "\n",
    "# now create the domain set for the 'Day-Time' attribute for each variable,\n",
    "# taking into account the blocked time slots for any course\n",
    "day_time_domains = {}\n",
    "for v in variables:\n",
    "    if v in blocked_timeslots:\n",
    "        # walk through all the available time slots and keep all that are not included\n",
    "        # in the set of blocked time slots for this variable\n",
    "        day_time_domains[v] = []\n",
    "        for ts in time_slots:\n",
    "            good = True\n",
    "            for tb in blocked_timeslots[v]:\n",
    "                if ts == tb:\n",
    "                    good = False\n",
    "            if good:\n",
    "                day_time_domains[v].append(ts)\n",
    "    else:\n",
    "        # this variable has now unavailable time slots, so add them all to the domain\n",
    "        day_time_domains[v] = time_slots\n",
    "print('day_time_domains:')\n",
    "for dt in day_time_domains:\n",
    "    print(dt, day_time_domains[dt])"
   ]
  },
  {
   "cell_type": "code",
   "execution_count": null,
   "metadata": {
    "colab": {
     "base_uri": "https://localhost:8080/",
     "height": 547
    },
    "colab_type": "code",
    "executionInfo": {
     "elapsed": 471,
     "status": "ok",
     "timestamp": 1586350589986,
     "user": {
      "displayName": "Tim Brucks",
      "photoUrl": "https://lh3.googleusercontent.com/a-/AOh14GiGagSs1z3KyXsWPmSj8Cx3ihMccEeIaW0413_g=s64",
      "userId": "12323747811524956898"
     },
     "user_tz": 300
    },
    "id": "kDVLWEu2xnXU",
    "outputId": "b1edb3ae-21fa-4296-d2f4-108393241474"
   },
   "outputs": [],
   "source": [
    "# -------------------------------------------------------------------------------------\n",
    "# domains: a dict; key: variable name; value: list of a tuple of possible assignments for each variable attribute\n",
    "# for now, all courses have the same domains\n",
    "\n",
    "# for the current approach, we need to create the cartesian product of all the domains of each attribute\n",
    "# this is not going to be very feasible for larger problems\n",
    "domains = {}\n",
    "for x in variables:\n",
    "    attr_prod = []\n",
    "    for r in room_domains[x]:\n",
    "        for dt in day_time_domains[x]:\n",
    "            attr_prod.append((r, dt))\n",
    "    domains[x] = attr_prod\n",
    "for d in domains:\n",
    "      print('domain for:', d, ':', domains[d])\n"
   ]
  },
  {
   "cell_type": "code",
   "execution_count": null,
   "metadata": {
    "colab": {
     "base_uri": "https://localhost:8080/",
     "height": 1000
    },
    "colab_type": "code",
    "executionInfo": {
     "elapsed": 461,
     "status": "ok",
     "timestamp": 1586350589986,
     "user": {
      "displayName": "Tim Brucks",
      "photoUrl": "https://lh3.googleusercontent.com/a-/AOh14GiGagSs1z3KyXsWPmSj8Cx3ihMccEeIaW0413_g=s64",
      "userId": "12323747811524956898"
     },
     "user_tz": 300
    },
    "id": "qgIxoVMEx3Aa",
    "outputId": "53b5d1ea-d6b4-4f66-e078-129283800b38"
   },
   "outputs": [],
   "source": [
    "# -------------------------------------------------------------------------------------\n",
    "# constraints   A list of functions f(A, a, B, b) that returns true if two variables A, B satisfy the constraint\n",
    "#               when they have values A=a, B=b\n",
    "constraints = [constraint_different_values]\n",
    "\n",
    "# set up the problem\n",
    "my_problem = TimetablingCSP(variables, attr_names, domains, constraints)\n",
    "\n",
    "# try it with min_conflicts\n",
    "print('Solving with min_conflicts')\n",
    "solution = csp.min_conflicts(my_problem, max_steps=100)\n",
    "display_solution(solution, my_problem)\n",
    "print('--------------------------\\n')\n",
    "# reset the problem\n",
    "my_problem = TimetablingCSP(variables, attr_names, domains, constraints)\n",
    "\n",
    "# try it with backtracking_search\n",
    "print('Solving with backtracking_search')\n",
    "solution = csp.backtracking_search(my_problem)\n",
    "display_solution(solution, my_problem)\n"
   ]
  },
  {
   "cell_type": "code",
   "execution_count": null,
   "metadata": {},
   "outputs": [],
   "source": []
  },
  {
   "cell_type": "code",
   "execution_count": null,
   "metadata": {},
   "outputs": [],
   "source": []
  }
 ],
 "metadata": {
  "colab": {
   "collapsed_sections": [],
   "name": "solve_itc_baseline_csp.ipynb",
   "provenance": []
  },
  "kernelspec": {
   "display_name": "Python 3",
   "language": "python",
   "name": "python3"
  },
  "language_info": {
   "codemirror_mode": {
    "name": "ipython",
    "version": 3
   },
   "file_extension": ".py",
   "mimetype": "text/x-python",
   "name": "python",
   "nbconvert_exporter": "python",
   "pygments_lexer": "ipython3",
   "version": "3.5.6"
  },
  "pycharm": {
   "stem_cell": {
    "cell_type": "raw",
    "metadata": {
     "collapsed": false
    },
    "source": []
   }
  }
 },
 "nbformat": 4,
 "nbformat_minor": 1
}
